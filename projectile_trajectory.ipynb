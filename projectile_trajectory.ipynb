{
 "cells": [
  {
   "cell_type": "code",
   "execution_count": 12,
   "id": "554d4585",
   "metadata": {},
   "outputs": [],
   "source": [
    "import numpy as np\n",
    "import matplotlib.pyplot as plt"
   ]
  },
  {
   "cell_type": "code",
   "execution_count": null,
   "id": "95974e8a",
   "metadata": {},
   "outputs": [],
   "source": [
    "# Constants\n",
    "\n",
    "r = 0.03 # radius\n",
    "rho = 7800 # density\n",
    "v0 = 200 # initial velocity\n",
    "g = 9.81 # gravity\n",
    "Cd = 0.47 # drag coefficient\n",
    "angle = 45 # launch angle"
   ]
  },
  {
   "cell_type": "code",
   "execution_count": null,
   "id": "667a0352",
   "metadata": {},
   "outputs": [],
   "source": [
    "# Initial Conditions\n",
    "\n",
    "A = np.pi * r**2 # Calculate frontal area\n",
    "theta = np.radians(angle) # angle to radians\n",
    "proj_vol = 4/3 * np.pi * r**3 # projectile volume\n",
    "proj_mass = rho * proj_vol # projectile mass\n",
    "\n",
    "v0_x = v0 * np.cos(theta) # x component of initial velocity\n",
    "v0_y = v0 * np.sin(theta) # y component of initial velocity"
   ]
  },
  {
   "cell_type": "code",
   "execution_count": 15,
   "id": "e262312a",
   "metadata": {},
   "outputs": [
    {
     "data": {
      "text/plain": [
       "207316.07000700326"
      ]
     },
     "execution_count": 15,
     "metadata": {},
     "output_type": "execute_result"
    }
   ],
   "source": [
    "# Calculate forces\n",
    "\n",
    "F_drag = 0.5 * rho * v0**2 * Cd * A\n",
    "F_g = proj_mass * g\n",
    "F_total = F_drag + F_g\n",
    "\n",
    "F_total"
   ]
  },
  {
   "cell_type": "code",
   "execution_count": null,
   "id": "1dcfb775",
   "metadata": {},
   "outputs": [
    {
     "data": {
      "text/plain": [
       "235009.81000000003"
      ]
     },
     "execution_count": 16,
     "metadata": {},
     "output_type": "execute_result"
    }
   ],
   "source": [
    "# Calculate acceleration\n",
    "\n",
    "F_acc = F_total / proj_mass\n",
    "F_acc\n"
   ]
  },
  {
   "cell_type": "code",
   "execution_count": 17,
   "id": "744a139e",
   "metadata": {},
   "outputs": [],
   "source": [
    "# Forward Euler Integration\n",
    "\n"
   ]
  },
  {
   "cell_type": "code",
   "execution_count": 18,
   "id": "46726fba",
   "metadata": {},
   "outputs": [],
   "source": [
    "# Plot trajectory"
   ]
  }
 ],
 "metadata": {
  "kernelspec": {
   "display_name": ".venv",
   "language": "python",
   "name": "python3"
  },
  "language_info": {
   "codemirror_mode": {
    "name": "ipython",
    "version": 3
   },
   "file_extension": ".py",
   "mimetype": "text/x-python",
   "name": "python",
   "nbconvert_exporter": "python",
   "pygments_lexer": "ipython3",
   "version": "3.11.5"
  }
 },
 "nbformat": 4,
 "nbformat_minor": 5
}
