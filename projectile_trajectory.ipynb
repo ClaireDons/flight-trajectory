{
 "cells": [
  {
   "cell_type": "code",
   "execution_count": 1,
   "id": "554d4585",
   "metadata": {},
   "outputs": [],
   "source": [
    "import numpy as np\n",
    "import matplotlib.pyplot as plt"
   ]
  },
  {
   "cell_type": "code",
   "execution_count": null,
   "id": "95974e8a",
   "metadata": {},
   "outputs": [],
   "source": [
    "# Initiate variables\n",
    "\n",
    "r = 0.03\n",
    "rho = 7800 \n",
    "v0 = 200\n",
    "g = 9.81\n",
    "Cd = 0.47\n",
    "angle = 45"
   ]
  },
  {
   "cell_type": "code",
   "execution_count": 3,
   "id": "667a0352",
   "metadata": {},
   "outputs": [
    {
     "data": {
      "text/plain": [
       "0.0028274333882308137"
      ]
     },
     "execution_count": 3,
     "metadata": {},
     "output_type": "execute_result"
    }
   ],
   "source": [
    "# Calculate frontal area\n",
    "\n",
    "A = np.pi * r**2\n",
    "A"
   ]
  },
  {
   "cell_type": "code",
   "execution_count": 4,
   "id": "e262312a",
   "metadata": {},
   "outputs": [
    {
     "data": {
      "text/plain": [
       "207307.41602508325"
      ]
     },
     "execution_count": 4,
     "metadata": {},
     "output_type": "execute_result"
    }
   ],
   "source": [
    "# Calculate drag force\n",
    "\n",
    "F_drag = 0.5 * rho * v0**2 * Cd * A\n",
    "F_drag"
   ]
  }
 ],
 "metadata": {
  "kernelspec": {
   "display_name": ".venv",
   "language": "python",
   "name": "python3"
  },
  "language_info": {
   "codemirror_mode": {
    "name": "ipython",
    "version": 3
   },
   "file_extension": ".py",
   "mimetype": "text/x-python",
   "name": "python",
   "nbconvert_exporter": "python",
   "pygments_lexer": "ipython3",
   "version": "3.11.5"
  }
 },
 "nbformat": 4,
 "nbformat_minor": 5
}
